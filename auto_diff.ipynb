{
 "cells": [
  {
   "cell_type": "code",
   "execution_count": 85,
   "metadata": {
    "collapsed": false,
    "deletable": true,
    "editable": true
   },
   "outputs": [],
   "source": [
    "import numpy as np\n",
    "import math\n",
    "import theano\n",
    "import theano.tensor as T\n",
    "\n",
    "x_1 = T.dvector('x_1')\n",
    "i_1 = T.dscalar('i_1')\n",
    "f_1 = T.dscalar('f_1')\n",
    "o_1 = T.dscalar('o_1')\n",
    "b_1 = T.dscalar('b_1')\n",
    "V_a1 = T.dvector('V_a1')\n",
    "h_1_prev = T.dvector('h_1_prev')\n",
    "s_1_prev = T.dscalar('s_1_prev')\n",
    "U_a1 = T.dvector('U_a1')\n",
    "a_1 = T.tanh(T.sum(V_a1 * x_1) + T.sum(U_a1 * h_1_prev) + b_1)\n",
    "assert(a_1.ndim == 0) # scalar is a 0-dim tensor\n",
    "s_1 = i_1 * a_1 + f_1 * s_1_prev\n",
    "h_1 = o_1 * T.tanh(s_1)"
   ]
  },
  {
   "cell_type": "markdown",
   "metadata": {
    "deletable": true,
    "editable": true
   },
   "source": [
    "### Automatic differentiation of  $\\frac{\\partial s^1_1}{\\partial a^1_1}$"
   ]
  },
  {
   "cell_type": "code",
   "execution_count": 91,
   "metadata": {
    "collapsed": false,
    "deletable": true,
    "editable": true
   },
   "outputs": [
    {
     "name": "stdout",
     "output_type": "stream",
     "text": [
      "2.0\n",
      "1.0\n"
     ]
    }
   ],
   "source": [
    "gs_1 = T.grad(s_1, a_1)\n",
    "f_gs_1 = theano.function([i_1, f_1, s_1_prev, V_a1, x_1, U_a1, h_1_prev, b_1], gs_1) \n",
    "# We have to provide enough expressions. Otherwise, Theano returns an error\n",
    "\n",
    "print(f_gs_1(2, 1, 1, [1, 1], [1, 1], [1, 1], [1, 1], 1)) # dh_1/ds_1\n",
    "print(f_gs_1(1, 1, 1, [1, 1], [1, 1], [1, 1], [1, 1], 1)) # dh_1/ds_1"
   ]
  },
  {
   "cell_type": "markdown",
   "metadata": {
    "deletable": true,
    "editable": true
   },
   "source": [
    "### Automatic differentiation of  $\\frac{\\partial h^1_1}{\\partial s^1_1}$"
   ]
  },
  {
   "cell_type": "code",
   "execution_count": 87,
   "metadata": {
    "collapsed": false,
    "deletable": true,
    "editable": true
   },
   "outputs": [
    {
     "name": "stdout",
     "output_type": "stream",
     "text": [
      "0.07067807364430378\n"
     ]
    }
   ],
   "source": [
    "gh_1 = T.grad(h_1, s_1)\n",
    "f_gh_1 = theano.function([o_1, s_1], gh_1)\n",
    "print(f_gh_1(1, 1.9998)) # dh_1/ds_1"
   ]
  },
  {
   "cell_type": "markdown",
   "metadata": {
    "collapsed": true,
    "deletable": true,
    "editable": true
   },
   "source": [
    "### Automatic differentiation of  $\\frac{\\partial a^1_1}{\\partial V_{a1}}$"
   ]
  },
  {
   "cell_type": "code",
   "execution_count": 88,
   "metadata": {
    "collapsed": false
   },
   "outputs": [
    {
     "name": "stdout",
     "output_type": "stream",
     "text": [
      "[ 0.00018158  0.00018158]\n"
     ]
    }
   ],
   "source": [
    "ga_1 = T.grad(a_1, V_a1)\n",
    "f_ga_1 = theano.function([V_a1, x_1, U_a1, h_1_prev, b_1], ga_1)\n",
    "print(f_ga_1([1, 1], [1, 1], [1, 1], [1, 1], 1)) "
   ]
  },
  {
   "cell_type": "markdown",
   "metadata": {},
   "source": [
    " ### Automatic differentiation of  $\\frac{\\partial h^1_1}{\\partial V_{a1}}$"
   ]
  },
  {
   "cell_type": "code",
   "execution_count": 89,
   "metadata": {
    "collapsed": false
   },
   "outputs": [
    {
     "name": "stdout",
     "output_type": "stream",
     "text": [
      "[  1.28312511e-05   1.28312511e-05]\n"
     ]
    }
   ],
   "source": [
    "gh_1 = T.grad(h_1, V_a1)\n",
    "#f_gh_1 = theano.function([V_a1, x_1, U_a1, h_1_prev, b_1, f_1, i_1, o_1, s_1_prev], gs_1)\n",
    "f_gh_1 = theano.function([V_a1, x_1, U_a1, h_1_prev, b_1, f_1, i_1, o_1, s_1_prev], gh_1)\n",
    "print(f_gh_1([1, 1], [1, 1], [1, 1], [1, 1], 1, 1, 1, 1, 1))"
   ]
  },
  {
   "cell_type": "markdown",
   "metadata": {},
   "source": [
    "### Checking if it matches to the hand-computed results\n",
    "\n",
    "Since \n",
    "$$\n",
    "\\frac{\\partial h^1_1}{\\partial V_{a1}} = \\frac{\\partial h^1_1}{\\partial s^1_1} \\frac{\\partial s^1_1}{\\partial a^1_1} \\frac{\\partial a^1_1}{\\partial V_{a1}}\n",
    "$$"
   ]
  },
  {
   "cell_type": "code",
   "execution_count": 93,
   "metadata": {
    "collapsed": false
   },
   "outputs": [
    {
     "data": {
      "text/plain": [
       "array([  1.28377060e-05,   1.28377060e-05])"
      ]
     },
     "execution_count": 93,
     "metadata": {},
     "output_type": "execute_result"
    }
   ],
   "source": [
    "0.0707 * 1 * np.array([0.00018158, 0.00018158])"
   ]
  },
  {
   "cell_type": "code",
   "execution_count": null,
   "metadata": {
    "collapsed": true
   },
   "outputs": [],
   "source": []
  }
 ],
 "metadata": {
  "kernelspec": {
   "display_name": "Python 3",
   "language": "python",
   "name": "python3"
  },
  "language_info": {
   "codemirror_mode": {
    "name": "ipython",
    "version": 3
   },
   "file_extension": ".py",
   "mimetype": "text/x-python",
   "name": "python",
   "nbconvert_exporter": "python",
   "pygments_lexer": "ipython3",
   "version": "3.6.0"
  }
 },
 "nbformat": 4,
 "nbformat_minor": 2
}
